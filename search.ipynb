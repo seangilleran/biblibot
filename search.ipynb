{
 "cells": [
  {
   "cell_type": "markdown",
   "metadata": {},
   "source": [
    "# TWITTER API SEARCH    \n",
    "\n",
    "This notebook collects JSON results from a Twitter APIv2 query. See https://developer.twitter.com/en/docs/twitter-api/tweets/search/introduction for more on using the Twitter API search."
   ]
  },
  {
   "cell_type": "markdown",
   "metadata": {},
   "source": [
    "## INFO\n",
    "  \n",
    "__authors__    = 'Sean Gilleran'  \n",
    "__copyright__  = '...'  \n",
    "__license__    = '...'  \n",
    "__version__    = '...'  \n",
    "__email__      = 'sgilleran@ucsb.edu'"
   ]
  },
  {
   "cell_type": "markdown",
   "metadata": {},
   "source": [
    "## SETTINGS\n",
    "\n",
    "See https://developer.twitter.com/en/docs/twitter-api/tweets/search/integrate/build-a-query for more on query terms, limits, etc.\n",
    "\n",
    "N.b. `max_results` must be between 15 and 100 for the free search."
   ]
  },
  {
   "cell_type": "code",
   "execution_count": null,
   "metadata": {},
   "outputs": [],
   "source": [
    "query = \"#SeaUsRise -is:retweet\"\n",
    "max_results = 15\n",
    "\n",
    "bearer_token = \"\""
   ]
  },
  {
   "cell_type": "markdown",
   "metadata": {},
   "source": [
    "## SEARCH"
   ]
  },
  {
   "cell_type": "code",
   "execution_count": null,
   "metadata": {},
   "outputs": [],
   "source": [
    "import json\n",
    "import os\n",
    "import uuid\n",
    "from datetime import datetime\n",
    "from urllib import parse as urlparse\n",
    "\n",
    "import tweepy\n",
    "\n",
    "\n",
    "query_id = f\"{uuid.uuid4()}\"\n",
    "query_timestamp = datetime.now().strftime(\"%Y-%m-%d_%H%M%S\")\n",
    "\n",
    "client = tweepy.Client(bearer_token)\n",
    "response = client.search_recent_tweets(\n",
    "    query,\n",
    "    max_results=max_results,\n",
    "    expansions=\"author_id,attachments.media_keys\",\n",
    "    tweet_fields=\"created_at,public_metrics,attachments\",\n",
    "    user_fields=\"username,name\",\n",
    "    media_fields=\"url,alt_text\",\n",
    ")\n",
    "\n",
    "tweets = []\n",
    "for tweet_data in response.data:\n",
    "\n",
    "    # Get Tweet.\n",
    "    tweet = {\n",
    "        \"id\": tweet_data.id,\n",
    "        \"created_at\": tweet_data.created_at.isoformat(),\n",
    "        \"user\": next(\n",
    "            u.data for u in response.includes[\"users\"] if u.id == tweet_data.author_id\n",
    "        ),\n",
    "        \"text\": tweet_data.text,\n",
    "    }\n",
    "\n",
    "    # Get attachment(s), if any.\n",
    "    attachments = []\n",
    "    try:\n",
    "        for media_key in tweet_data.attachments[\"media_keys\"]:\n",
    "            attachments.append(\n",
    "                next(\n",
    "                    a.data\n",
    "                    for a in response.includes[\"media\"]\n",
    "                    if a.media_key == media_key\n",
    "                )\n",
    "            )\n",
    "        tweet[\"attachments\"] = attachments\n",
    "    except TypeError:\n",
    "        pass\n",
    "\n",
    "    # Get metrics & URL.\n",
    "    tweet.update(\n",
    "        {\n",
    "            \"public_metrics\": tweet_data.public_metrics,\n",
    "            \"url\": f'https://twitter.com/{tweet[\"user\"][\"username\"]}/status/{tweet[\"id\"]}',\n",
    "        }\n",
    "    )\n",
    "\n",
    "    tweets.append(tweet)\n",
    "\n",
    "# Compile all tweets with query metadata.\n",
    "data = {\n",
    "    \"id\": f\"{query_id}\",\n",
    "    \"timestamp\": query_timestamp,\n",
    "    \"query\": query,\n",
    "    \"url\": f\"https://twitter.com/search?q={urlparse.quote(query)}\",\n",
    "    \"tweets\": tweets,\n",
    "}"
   ]
  },
  {
   "cell_type": "markdown",
   "metadata": {},
   "source": [
    "## EXPORT"
   ]
  },
  {
   "cell_type": "code",
   "execution_count": null,
   "metadata": {},
   "outputs": [],
   "source": [
    "filename = f\"{query_timestamp}_{query_id}.json\"\n",
    "with open(filename, \"w\") as f:\n",
    "    json.dump(data, f, indent=2)\n",
    "\n",
    "print(\"Done!\")"
   ]
  }
 ],
 "metadata": {
  "kernelspec": {
   "display_name": "Python 3.10.5 ('.env': venv)",
   "language": "python",
   "name": "python3"
  },
  "language_info": {
   "codemirror_mode": {
    "name": "ipython",
    "version": 3
   },
   "file_extension": ".py",
   "mimetype": "text/x-python",
   "name": "python",
   "nbconvert_exporter": "python",
   "pygments_lexer": "ipython3",
   "version": "3.10.5"
  },
  "orig_nbformat": 4,
  "vscode": {
   "interpreter": {
    "hash": "f6ff82ba0074ede521b834a61a9c801a4af0a84563c0c546cca94f9fbe58e058"
   }
  }
 },
 "nbformat": 4,
 "nbformat_minor": 2
}
